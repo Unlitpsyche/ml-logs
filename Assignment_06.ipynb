{
 "cells": [
  {
   "cell_type": "code",
   "execution_count": 1,
   "id": "40520a08",
   "metadata": {},
   "outputs": [
    {
     "name": "stdout",
     "output_type": "stream",
     "text": [
      "{'India': 'Delhi', 'China': 'Sanghai', 'Japan': 'Tokyo'}\n"
     ]
    }
   ],
   "source": [
    "'''1. Write a Python program to create a dictionary of 3 countries and their capitals.\n",
    "Print each country with its capital.''' \n",
    "country={\"India\": \"Delhi\", \"China\": \"Sanghai\", \"Japan\":\"Tokyo\"}\n",
    "print(country)"
   ]
  },
  {
   "cell_type": "code",
   "execution_count": 2,
   "id": "5ed0c2b4",
   "metadata": {},
   "outputs": [
    {
     "name": "stdout",
     "output_type": "stream",
     "text": [
      "{'name': 'Alice', 'age': 22, 'city': 'Delhi'}\n"
     ]
    }
   ],
   "source": [
    "'''2. Create a dictionary ”name”: ”Alice”, ”age”: 22, ”city”: ”Delhi”. Write a program\n",
    "to print the values of ”name” and ”city”.''' \n",
    "Name= {\"name\": \"Alice\", \"age\": 22, \"city\": \"Delhi\"}\n",
    "print(Name)"
   ]
  },
  {
   "cell_type": "code",
   "execution_count": 3,
   "id": "aae9b6b9",
   "metadata": {},
   "outputs": [
    {
     "name": "stdout",
     "output_type": "stream",
     "text": [
      "{'name': 'Ankita', 'age': 19, 'branch': 'CEN'}\n",
      "{'name': 'Ankita', 'age': 21, 'branch': 'CEN'}\n",
      "{'name': 'Ankita', 'age': 21, 'branch': 'CEN', 'grade': 'A'}\n"
     ]
    }
   ],
   "source": [
    "'''3. Write a program to create a dictionary of a student with keys: ”name”, ”age”,\n",
    "”branch”. Update the ”age” to 21 and add a new key ”grade” with value ”A”.'''\n",
    "keys= {\"name\": \"Ankita\", \"age\": 19, \"branch\": \"CEN\"}\n",
    "print(keys)\n",
    "keys[\"age\"]= 21\n",
    "print(keys)\n",
    "keys[\"grade\"]= \"A\" \n",
    "print(keys)"
   ]
  },
  {
   "cell_type": "code",
   "execution_count": 4,
   "id": "8cf93363",
   "metadata": {},
   "outputs": [
    {
     "name": "stdout",
     "output_type": "stream",
     "text": [
      "{'apple': 100, 'mango': 50, 'orange': 60}\n"
     ]
    }
   ],
   "source": [
    "'''4. Create a dictionary of fruits with their prices. Write a program to delete one fruit\n",
    "from the dictionary and display the updated dictionary.''' \n",
    "fruits = {\"apple\": 100, \"banana\": 40, \"mango\": 50, \"orange\": 60}\n",
    "del fruits[\"banana\"]\n",
    "print(fruits)\n"
   ]
  },
  {
   "cell_type": "code",
   "execution_count": 5,
   "id": "9921c272",
   "metadata": {},
   "outputs": [
    {
     "name": "stdout",
     "output_type": "stream",
     "text": [
      "title : No longer Human\n",
      "author : Dazai Osamu\n",
      "price : 900\n"
     ]
    }
   ],
   "source": [
    "'''5. Write a program to store details of a book (title, author, price). Iterate through\n",
    "the dictionary and print each key and value.'''\n",
    "book = {\"title\": \"No longer Human\", \"author\": \"Dazai Osamu\", \"price\": 900}\n",
    "for key, value in book.items():\n",
    "    print(key, \":\", value)"
   ]
  },
  {
   "cell_type": "code",
   "execution_count": 6,
   "id": "6852ff03",
   "metadata": {},
   "outputs": [
    {
     "name": "stdout",
     "output_type": "stream",
     "text": [
      "{'a': 10, 'b': 20, 'c': 30, 'd': 40}\n"
     ]
    }
   ],
   "source": [
    "'''6. Write a program to merge two dictionaries:\n",
    "d1 = {”a”: 10, ”b”: 20}\n",
    "d2 = {”c”: 30, ”d”: 40}\n",
    "Expected Output: {’a’: 10, ’b’: 20, ’c’: 30, ’d’: 40}'''\n",
    "d1 = {\"a\": 10, \"b\": 20}\n",
    "d2 = {\"c\": 30, \"d\": 40}\n",
    "d1.update(d2)\n",
    "print(d1)"
   ]
  },
  {
   "cell_type": "code",
   "execution_count": 7,
   "id": "0a73a591",
   "metadata": {},
   "outputs": [
    {
     "name": "stdout",
     "output_type": "stream",
     "text": [
      "Value 200 exists in the dictionary\n"
     ]
    }
   ],
   "source": [
    "'''7. Write a program to check if a value 200 exists in a dictionary. sampleDict = {’a’:\n",
    "100, ’b’: 200, ’c’: 300}'''\n",
    "sampleDict = {\"a\": 100, \"b\": 200, \"c\": 300}\n",
    "if 200 in sampleDict.values():\n",
    "    print(\"Value 200 exists in the dictionary\")\n",
    "else:\n",
    "    print(\"Value 200 does not exist in the dictionary\")\n"
   ]
  },
  {
   "cell_type": "code",
   "execution_count": 8,
   "id": "3eedc85e",
   "metadata": {},
   "outputs": [
    {
     "name": "stdout",
     "output_type": "stream",
     "text": [
      "{'Python': 2, 'is': 2, 'fun': 1, 'and': 1, 'powerful': 1}\n"
     ]
    }
   ],
   "source": [
    "'''9. . Write a Python program that counts the frequency of each word in the string:\n",
    "”Python is fun and Python is powerful”. Store the result in a dictionary'''\n",
    "text = \"Python is fun and Python is powerful\"\n",
    "words = text.split()\n",
    "freq = {}\n",
    "for word in words:\n",
    "    freq[word] = freq.get(word, 0) + 1\n",
    "print(freq)"
   ]
  },
  {
   "cell_type": "code",
   "execution_count": 9,
   "id": "03f0bea1",
   "metadata": {},
   "outputs": [
    {
     "name": "stdout",
     "output_type": "stream",
     "text": [
      "{'Amit': 101, 'Riya': 102, 'John': 103}\n"
     ]
    }
   ],
   "source": [
    "'''10. Given a dictionary of roll numbers and names, write a program to invert it so that\n",
    "names become keys and roll numbers become values.\n",
    "students = {101: ”Amit”, 102: ”Riya”, 103: ”John”}'''\n",
    "students = {101: \"Amit\", 102: \"Riya\", 103: \"John\"}\n",
    "inverted = {}\n",
    "for roll, name in students.items():\n",
    "    inverted[name] = roll\n",
    "print(inverted)"
   ]
  },
  {
   "cell_type": "code",
   "execution_count": 10,
   "id": "ee379e00",
   "metadata": {},
   "outputs": [
    {
     "name": "stdout",
     "output_type": "stream",
     "text": [
      "{40, 10, 50, 30}\n"
     ]
    }
   ],
   "source": [
    "'''11. Create a set {10, 20, 30}. Add 40 and 50. Remove 20.Print the final set.'''\n",
    "s = {10, 20, 30}\n",
    "s.add(40)\n",
    "s.add(50)\n",
    "s.remove(20)\n",
    "print(s)"
   ]
  },
  {
   "cell_type": "code",
   "execution_count": 11,
   "id": "f24f66e5",
   "metadata": {},
   "outputs": [
    {
     "name": "stdout",
     "output_type": "stream",
     "text": [
      "Union of A and B: {1, 2, 3, 4, 5, 6}\n",
      "Intersection of A and B: {3, 4}\n",
      "Difference A - B: {1, 2}\n",
      "Symmetric Difference of A and B: {1, 2, 5, 6}\n"
     ]
    }
   ],
   "source": [
    "'''12. Given two sets:\n",
    "A = {1, 2, 3, 4}\n",
    "B = {3, 4, 5, 6}\n",
    "Write a Python program to find: Union of A and B. Intersection of A and B.\n",
    "Difference A - B. Symmetric Difference A and B'''\n",
    "A = {1, 2, 3, 4}\n",
    "B = {3, 4, 5, 6}\n",
    "\n",
    "print(\"Union of A and B:\", A | B)\n",
    "\n",
    "print(\"Intersection of A and B:\", A & B)\n",
    "\n",
    "print(\"Difference A - B:\", A - B)\n",
    "\n",
    "print(\"Symmetric Difference of A and B:\", A ^ B)"
   ]
  },
  {
   "cell_type": "code",
   "execution_count": 12,
   "id": "95ddddff",
   "metadata": {},
   "outputs": [
    {
     "name": "stdout",
     "output_type": "stream",
     "text": [
      "[1, 2, 3, 4, 5]\n"
     ]
    }
   ],
   "source": [
    "'''13. Write a Python program that removes duplicate numbers from the list:[1, 2, 2, 3,\n",
    "4, 4, 5]'''\n",
    "lst = [1, 2, 2, 3, 4, 4, 5, 5]\n",
    "lst_no_dup = list(set(lst))\n",
    "print(lst_no_dup)"
   ]
  },
  {
   "cell_type": "code",
   "execution_count": 13,
   "id": "e4cd7e6d",
   "metadata": {},
   "outputs": [
    {
     "name": "stdout",
     "output_type": "stream",
     "text": [
      "Common elements: {3, 4}\n"
     ]
    }
   ],
   "source": [
    "'''14. Given two lists:\n",
    "list1 = [1, 2, 3, 4]\n",
    "list2 = [3, 4, 5, 6]\n",
    "Write a Python program to find common elements using sets.''' \n",
    "list1 = [1, 2, 3, 4]\n",
    "list2 = [3, 4, 5, 6]\n",
    "common = set(list1) & set(list2)\n",
    "\n",
    "print(\"Common elements:\", common)\n"
   ]
  },
  {
   "cell_type": "code",
   "execution_count": 15,
   "id": "47cd1356",
   "metadata": {},
   "outputs": [
    {
     "name": "stdout",
     "output_type": "stream",
     "text": [
      "Unique words: {'Python', 'fun', 'learning', 'is', 'and', 'easy'}\n"
     ]
    }
   ],
   "source": [
    "'''15. Write a Python program to find all unique words from the sentence: ”Python is\n",
    "fun and learning Python is easy” '''\n",
    "sentence = \"Python is fun and learning Python is easy\"\n",
    "unique = set(sentence.split())\n",
    "print(\"Unique words:\", unique)"
   ]
  },
  {
   "cell_type": "code",
   "execution_count": 16,
   "id": "c014ac12",
   "metadata": {},
   "outputs": [
    {
     "name": "stdout",
     "output_type": "stream",
     "text": [
      "Common to all three sets: {3}\n",
      "Present in at least one set: {1, 2, 3, 4, 5}\n"
     ]
    }
   ],
   "source": [
    "'''16. Given three sets:\n",
    "A = {1, 2, 3}\n",
    "B = {2, 3, 4}\n",
    "C = {3, 4, 5}\n",
    "Write a program to find: Elements common to all three sets. Elements present in\n",
    "at least one set.'''\n",
    "A = {1, 2, 3}\n",
    "B = {2, 3, 4}\n",
    "C = {3, 4, 5}\n",
    "\n",
    "common_all = A & B & C\n",
    "at_least_one = A | B | C\n",
    "\n",
    "print(\"Common to all three sets:\", common_all)\n",
    "print(\"Present in at least one set:\", at_least_one)"
   ]
  },
  {
   "cell_type": "code",
   "execution_count": 17,
   "id": "77b85b4a",
   "metadata": {},
   "outputs": [
    {
     "name": "stdout",
     "output_type": "stream",
     "text": [
      "Updated set1: {40, 50, 30}\n"
     ]
    }
   ],
   "source": [
    "'''17. emove items from set1 that are not common to both set1 and set2\n",
    "set1 = {10, 20, 30, 40, 50}\n",
    "set2 = {30, 40, 50, 60, 70}'''\n",
    "\n",
    "set1 = {10, 20, 30, 40, 50}\n",
    "set2 = {30, 40, 50, 60, 70}\n",
    "\n",
    "common_elements = set1 & set2\n",
    "set1.intersection_update(set2)\n",
    "print(\"Updated set1:\", set1)\n"
   ]
  }
 ],
 "metadata": {
  "kernelspec": {
   "display_name": "Python 3 (ipykernel)",
   "language": "python",
   "name": "python3"
  },
  "language_info": {
   "codemirror_mode": {
    "name": "ipython",
    "version": 3
   },
   "file_extension": ".py",
   "mimetype": "text/x-python",
   "name": "python",
   "nbconvert_exporter": "python",
   "pygments_lexer": "ipython3",
   "version": "3.11.5"
  }
 },
 "nbformat": 4,
 "nbformat_minor": 5
}
