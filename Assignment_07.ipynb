{
 "cells": [
  {
   "cell_type": "code",
   "execution_count": null,
   "id": "882ee0f5",
   "metadata": {},
   "outputs": [
    {
     "data": {
      "text/plain": [
       "5"
      ]
     },
     "execution_count": 17,
     "metadata": {},
     "output_type": "execute_result"
    }
   ],
   "source": [
    "#1. Write a function add(a, b) that returns the sum of two numbers\n",
    "def add(a, b):\n",
    "   return a+b\n",
    "add(2,3)"
   ]
  },
  {
   "cell_type": "code",
   "execution_count": null,
   "id": "342054be",
   "metadata": {},
   "outputs": [
    {
     "name": "stdout",
     "output_type": "stream",
     "text": [
      "Power: 25\n"
     ]
    }
   ],
   "source": [
    "#2. Write a function power(base, exponent=2) that returns the power of a number.\n",
    "def power(base, exponent=2):\n",
    "    result = base ** exponent\n",
    "    print(\"Power:\", result)\n",
    "power(5)\n"
   ]
  },
  {
   "cell_type": "code",
   "execution_count": null,
   "id": "c031e0dc",
   "metadata": {},
   "outputs": [
    {
     "name": "stdout",
     "output_type": "stream",
     "text": [
      "Sum: 5 Product: 6\n"
     ]
    }
   ],
   "source": [
    "#3. Write a function that takes two numbers and returns both their sum and product.\n",
    "def sum_and_product(a, b):\n",
    "    s = a + b\n",
    "    p = a * b\n",
    "    print(\"Sum:\", s, \"Product:\", p)\n",
    "sum_and_product(2,3)"
   ]
  },
  {
   "cell_type": "code",
   "execution_count": null,
   "id": "374d20c6",
   "metadata": {},
   "outputs": [
    {
     "data": {
      "text/plain": [
       "120"
      ]
     },
     "execution_count": 26,
     "metadata": {},
     "output_type": "execute_result"
    }
   ],
   "source": [
    "#4. Write a recursive function factorial(n) that returns the factorial of a number.\n",
    "def factorial(n):\n",
    "    if n == 0 or n == 1:\n",
    "        return 1\n",
    "    else:\n",
    "        return n * factorial(n - 1)\n",
    "factorial(5)\n"
   ]
  },
  {
   "cell_type": "code",
   "execution_count": null,
   "id": "73e4167c",
   "metadata": {},
   "outputs": [
    {
     "data": {
      "text/plain": [
       "True"
      ]
     },
     "execution_count": 42,
     "metadata": {},
     "output_type": "execute_result"
    }
   ],
   "source": [
    "#5. Write a function is palindrome(word) that returns True if the word is a palindrome\n",
    "def is_palindrome(word):\n",
    "    return word == word[::-1]\n",
    "is_palindrome('wow')"
   ]
  },
  {
   "cell_type": "code",
   "execution_count": null,
   "id": "9e063c41",
   "metadata": {},
   "outputs": [
    {
     "name": "stdout",
     "output_type": "stream",
     "text": [
      "The result of applying 'add' to 5 and 3 is: 8\n"
     ]
    }
   ],
   "source": [
    "#6. Write a function apply(func, x, y) that takes another function func and two numbers, and applies func to them.\n",
    "def apply(func, x, y):\n",
    "    return func(x, y)\n",
    "\n",
    "def add(a, b):\n",
    "    return a + b\n",
    "\n",
    "result = apply(add, 5, 3)\n",
    "print(f\"The result of applying 'add' to 5 and 3 is: {result}\")\n"
   ]
  },
  {
   "cell_type": "code",
   "execution_count": null,
   "id": "338a6fae",
   "metadata": {},
   "outputs": [
    {
     "name": "stdout",
     "output_type": "stream",
     "text": [
      "Larger value: 10\n"
     ]
    },
    {
     "data": {
      "text/plain": [
       "10"
      ]
     },
     "execution_count": 48,
     "metadata": {},
     "output_type": "execute_result"
    }
   ],
   "source": [
    "#7. Write a function that takes a comparison function and two numbers, and returns\n",
    "#the larger number\n",
    "def greater_than(x, y):\n",
    "    return x > y\n",
    "\n",
    "def larger(comparison_func, a, b):\n",
    "    larger_value = a if comparison_func(a, b) else b\n",
    "    print(\"Larger value:\", larger_value)\n",
    "    return larger_value\n",
    "larger(greater_than, 10, 5)"
   ]
  },
  {
   "cell_type": "code",
   "execution_count": null,
   "id": "cc2a07c1",
   "metadata": {},
   "outputs": [
    {
     "name": "stdout",
     "output_type": "stream",
     "text": [
      "Squared values: [1, 4, 9, 16, 25]\n"
     ]
    }
   ],
   "source": [
    "#8. Write a program which will use map() to square all numbers in a list.\n",
    "nums = [1, 2, 3, 4, 5]\n",
    "squared = list(map(lambda x: x**2, nums))\n",
    "print(\"Squared values:\", squared)\n"
   ]
  },
  {
   "cell_type": "code",
   "execution_count": null,
   "id": "39029dae",
   "metadata": {},
   "outputs": [],
   "source": [
    "#9. Given a list of words, use map() to convert each word to uppercase.\n",
    "words = ['apple', 'banana', 'cherry']\n",
    "uppercase_words = list(map(str.upper, words))\n",
    "print(\"Uppercase words:\", uppercase_words)\n"
   ]
  },
  {
   "cell_type": "code",
   "execution_count": null,
   "id": "abf195af",
   "metadata": {},
   "outputs": [
    {
     "name": "stdout",
     "output_type": "stream",
     "text": [
      "Fahrenheit: [32.0, 68.0, 98.6, 212.0]\n"
     ]
    }
   ],
   "source": [
    "#10. Given a list of words, use map() to convert each word to uppercase.\n",
    "celsius = [0, 20, 37, 100]\n",
    "fahrenheit = list(map(lambda c: (c * 9/5) + 32, celsius))\n",
    "print(\"Fahrenheit:\", fahrenheit)"
   ]
  },
  {
   "cell_type": "code",
   "execution_count": null,
   "id": "6db83e8b",
   "metadata": {},
   "outputs": [
    {
     "name": "stdout",
     "output_type": "stream",
     "text": [
      "Product of all numbers: 120\n"
     ]
    }
   ],
   "source": [
    "#11. Write a program which will use reduce() to find the product of all numbers in a\n",
    "# list.\n",
    "from functools import reduce\n",
    "numbers = [1, 2, 3, 4, 5]\n",
    "product = reduce(lambda x, y: x * y, numbers)\n",
    "print(\"Product of all numbers:\", product)\n"
   ]
  },
  {
   "cell_type": "code",
   "execution_count": null,
   "id": "71ef2e9e",
   "metadata": {},
   "outputs": [
    {
     "name": "stdout",
     "output_type": "stream",
     "text": [
      "Concatenated string: HelloWorld!\n"
     ]
    }
   ],
   "source": [
    "#12. Write a program which will use reduce() to concatenate a list of strings into one\n",
    "#string.\n",
    "from functools import reduce\n",
    "words = [\"Hello\", \"World\", \"!\"]\n",
    "concatenated = reduce(lambda x, y: x + y, words)\n",
    "print(\"Concatenated string:\", concatenated)"
   ]
  },
  {
   "cell_type": "code",
   "execution_count": null,
   "id": "b4c5fc02",
   "metadata": {},
   "outputs": [
    {
     "name": "stdout",
     "output_type": "stream",
     "text": [
      "Even numbers: [2, 4, 6, 8]\n"
     ]
    }
   ],
   "source": [
    "#13. Write a program which will use filter() to get only even numbers from a list.\n",
    "nums = [1, 2, 3, 4, 5, 6, 7, 8]\n",
    "evens = list(filter(lambda x: x % 2 == 0, nums))\n",
    "print(\"Even numbers:\", evens)"
   ]
  },
  {
   "cell_type": "code",
   "execution_count": null,
   "id": "1aeffc91",
   "metadata": {},
   "outputs": [
    {
     "name": "stdout",
     "output_type": "stream",
     "text": [
      "Words longer than 5 characters: ['banana', 'cherry', 'elderberry']\n"
     ]
    }
   ],
   "source": [
    "#14. Write a program which will use Use filter() to extract words longer than 5 characters\n",
    "#from a list.\n",
    "words = ['apple', 'banana', 'cherry', 'date', 'elderberry']\n",
    "long_words = list(filter(lambda w: len(w) > 5, words))\n",
    "print(\"Words longer than 5 characters:\", long_words)"
   ]
  },
  {
   "cell_type": "code",
   "execution_count": null,
   "id": "86bdc69d",
   "metadata": {},
   "outputs": [
    {
     "name": "stdout",
     "output_type": "stream",
     "text": [
      "Hello\n"
     ]
    }
   ],
   "source": [
    "#15. Create a function outer() that contains an inner function greet() which prints “Hello”.\n",
    "def outer():\n",
    "    def greet():\n",
    "        print(\"Hello\")\n",
    "    greet()\n",
    "outer()"
   ]
  },
  {
   "cell_type": "code",
   "execution_count": null,
   "id": "66a78b4d",
   "metadata": {},
   "outputs": [
    {
     "name": "stdout",
     "output_type": "stream",
     "text": [
      "Add: 8\n",
      "Subtract: 2\n",
      "Multiply: 15\n",
      "Divide: 1.6666666666666667\n"
     ]
    },
    {
     "data": {
      "text/plain": [
       "5"
      ]
     },
     "execution_count": 59,
     "metadata": {},
     "output_type": "execute_result"
    }
   ],
   "source": [
    "#16. Write a function calculator() with inner functions for addition, subtraction, multiplication, and division.\n",
    "def calculator():\n",
    "    def add(a, b):\n",
    "        return a + b\n",
    "    def subtract(a, b):\n",
    "        return a - b\n",
    "    def multiply(a, b):\n",
    "        return a * b\n",
    "    def divide(a, b):\n",
    "        return a / b if b != 0 else None\n",
    "\n",
    "    print(\"Add:\", add(5, 3))\n",
    "    print(\"Subtract:\", subtract(5, 3))\n",
    "    print(\"Multiply:\", multiply(5, 3))\n",
    "    print(\"Divide:\", divide(5, 3))\n",
    "\n",
    "calculator()\n",
    "add(2,3)"
   ]
  },
  {
   "cell_type": "code",
   "execution_count": null,
   "id": "7ca6dd23",
   "metadata": {},
   "outputs": [
    {
     "name": "stdout",
     "output_type": "stream",
     "text": [
      "15\n"
     ]
    }
   ],
   "source": [
    "#17. Write a function make multiplier(n) that returns another function to multiply numbers by n.\n",
    "def make_multiplier(n):\n",
    "    def multiplier(x):\n",
    "        return x * n\n",
    "    return multiplier\n",
    "\n",
    "times3 = make_multiplier(3)\n",
    "print(times3(5))\n"
   ]
  },
  {
   "cell_type": "code",
   "execution_count": null,
   "id": "fed5103b",
   "metadata": {},
   "outputs": [
    {
     "name": "stdout",
     "output_type": "stream",
     "text": [
      "64\n"
     ]
    }
   ],
   "source": [
    "#18. Write a function power of(x) that returns another function to raise numbers to the\n",
    "# power of x.\n",
    "def power_of(x):\n",
    "    def power(n):\n",
    "        return n ** x\n",
    "    return power\n",
    "\n",
    "cube = power_of(3)\n",
    "print(cube(4))"
   ]
  },
  {
   "cell_type": "code",
   "execution_count": null,
   "id": "5ebcfc79",
   "metadata": {},
   "outputs": [
    {
     "name": "stdout",
     "output_type": "stream",
     "text": [
      "49\n"
     ]
    }
   ],
   "source": [
    "#19. Write a lambda function to calculate the square of a given number.\n",
    "square = lambda x: x ** 2\n",
    "print(square(7))"
   ]
  },
  {
   "cell_type": "code",
   "execution_count": null,
   "id": "67eb6815",
   "metadata": {},
   "outputs": [],
   "source": [
    "#20. Given a list of words [”apple”, ”banana”, ”kiwi”, ”strawberry”], use max() with a\n",
    "#lambda function to find the longest word.\n",
    "def check_password_strength(password):\n",
    "\n",
    "    conditions = ('lowercase', 'uppercase', 'digit')\n",
    "\n",
    "    has_lowercase, has_uppercase, has_digit = False, False, False\n",
    "\n",
    "    for char in password:\n",
    "        if char.islower():\n",
    "            has_lowercase = True\n",
    "        elif char.isupper():\n",
    "            has_uppercase = True\n",
    "        elif char.isdigit():\n",
    "            has_digit = True\n",
    "\n",
    "        if has_lowercase and has_uppercase and has_digit:\n",
    "            break\n",
    "\n",
    "    results = (has_lowercase, has_uppercase, has_digit)\n",
    "    if all(results):\n",
    "        print(\"Strong password\")\n",
    "    else:\n",
    "        print(\"Weak password\")\n",
    "\n",
    "# Input password from user\n",
    "password_input = input(\"Enter your password: \")\n",
    "check_password_strength(password_input)\n"
   ]
  }
 ],
 "metadata": {
  "kernelspec": {
   "display_name": "Python 3 (ipykernel)",
   "language": "python",
   "name": "python3"
  },
  "language_info": {
   "codemirror_mode": {
    "name": "ipython",
    "version": 3
   },
   "file_extension": ".py",
   "mimetype": "text/x-python",
   "name": "python",
   "nbconvert_exporter": "python",
   "pygments_lexer": "ipython3",
   "version": "3.11.5"
  }
 },
 "nbformat": 4,
 "nbformat_minor": 5
}
